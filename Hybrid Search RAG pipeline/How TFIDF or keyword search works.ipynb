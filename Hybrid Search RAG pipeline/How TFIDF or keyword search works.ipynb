{
 "cells": [
  {
   "cell_type": "code",
   "execution_count": 6,
   "id": "69257648",
   "metadata": {},
   "outputs": [],
   "source": [
    "from sklearn.feature_extraction.text import TfidfVectorizer\n",
    "from sklearn.metrics.pairwise import cosine_similarity\n",
    "import numpy as np\n",
    "import re"
   ]
  },
  {
   "cell_type": "code",
   "execution_count": 4,
   "id": "4e0d83e7",
   "metadata": {},
   "outputs": [],
   "source": [
    "# sample document \n",
    "sample_doc =  [\n",
    "    \"The sky was painted with hues of orange and pink as the sun set.\",\n",
    "    \"She opened the book and disappeared into a world of magic.\",\n",
    "    \"Technology continues to evolve, reshaping our daily lives.\",\n",
    "    \"A gentle breeze carried the scent of blooming flowers.\",\n",
    "    \"The conference was packed with experts sharing groundbreaking ideas.\",\n",
    "    \"He took a deep breath before diving into the cold, clear lake.\",\n",
    "    \"Their laughter echoed through the quiet forest.\",\n",
    "    \"The cat curled up by the fireplace, purring softly.\",\n",
    "    \"A sudden storm rolled in, turning the day dark and dramatic.\",\n",
    "    \"The city lights sparkled like stars in the evening.\"\n",
    "]\n"
   ]
  },
  {
   "cell_type": "code",
   "execution_count": 5,
   "id": "0ddca37e",
   "metadata": {},
   "outputs": [],
   "source": [
    "query = \"which book is she opened?\""
   ]
  },
  {
   "cell_type": "code",
   "execution_count": 9,
   "id": "4822bb28",
   "metadata": {},
   "outputs": [],
   "source": [
    "# Clean the text\n",
    "def preprocessing_text(text):\n",
    "    # convert into lower case\n",
    "    text = text.lower()\n",
    "    # remove punctuations\n",
    "    text = re.sub(r\"[^\\w\\s]\",\"\",text)\n",
    "    return text\n",
    "clean_text = [preprocessing_text(text) for text in sample_doc]"
   ]
  },
  {
   "cell_type": "code",
   "execution_count": 10,
   "id": "03ab80d6",
   "metadata": {},
   "outputs": [
    {
     "data": {
      "text/plain": [
       "['the sky was painted with hues of orange and pink as the sun set',\n",
       " 'she opened the book and disappeared into a world of magic',\n",
       " 'technology continues to evolve reshaping our daily lives',\n",
       " 'a gentle breeze carried the scent of blooming flowers',\n",
       " 'the conference was packed with experts sharing groundbreaking ideas',\n",
       " 'he took a deep breath before diving into the cold clear lake',\n",
       " 'their laughter echoed through the quiet forest',\n",
       " 'the cat curled up by the fireplace purring softly',\n",
       " 'a sudden storm rolled in turning the day dark and dramatic',\n",
       " 'the city lights sparkled like stars in the evening']"
      ]
     },
     "execution_count": 10,
     "metadata": {},
     "output_type": "execute_result"
    }
   ],
   "source": [
    "clean_text"
   ]
  },
  {
   "cell_type": "code",
   "execution_count": 14,
   "id": "ed9a69d7",
   "metadata": {},
   "outputs": [],
   "source": [
    "tfidf = TfidfVectorizer()\n",
    "vectors = tfidf.fit_transform(clean_text)"
   ]
  },
  {
   "cell_type": "code",
   "execution_count": 18,
   "id": "54752b69",
   "metadata": {},
   "outputs": [],
   "source": [
    "query_vector = tfidf.transform([query])"
   ]
  },
  {
   "cell_type": "code",
   "execution_count": 21,
   "id": "c0dda1a4",
   "metadata": {},
   "outputs": [],
   "source": [
    "index_match = np.argmax(cosine_similarity(query_vector,vectors))"
   ]
  },
  {
   "cell_type": "code",
   "execution_count": 23,
   "id": "2371210a",
   "metadata": {},
   "outputs": [
    {
     "name": "stdout",
     "output_type": "stream",
     "text": [
      "Matched sentece : \n",
      "She opened the book and disappeared into a world of magic. \t: which book is she opened?\n"
     ]
    }
   ],
   "source": [
    "print(f\"Matched sentece : \\n{sample_doc[index_match]} \\t: {query}\")"
   ]
  },
  {
   "cell_type": "code",
   "execution_count": null,
   "id": "c5b27a93",
   "metadata": {},
   "outputs": [],
   "source": []
  }
 ],
 "metadata": {
  "kernelspec": {
   "display_name": "Python 3 (ipykernel)",
   "language": "python",
   "name": "python3"
  },
  "language_info": {
   "codemirror_mode": {
    "name": "ipython",
    "version": 3
   },
   "file_extension": ".py",
   "mimetype": "text/x-python",
   "name": "python",
   "nbconvert_exporter": "python",
   "pygments_lexer": "ipython3",
   "version": "3.12.4"
  }
 },
 "nbformat": 4,
 "nbformat_minor": 5
}
